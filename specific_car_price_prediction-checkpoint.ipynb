{
 "cells": [
  {
   "cell_type": "code",
   "execution_count": 69,
   "id": "8a812a40-4fba-4df8-bf64-8850cada868d",
   "metadata": {},
   "outputs": [],
   "source": [
    "import pandas as pd \n",
    "import numpy as np\n",
    "import matplotlib.pyplot as plt\n",
    "from sklearn.preprocessing import scale\n",
    "from sklearn.preprocessing import StandardScaler\n",
    "from sklearn.model_selection import train_test_split, GridSearchCV\n",
    "from sklearn.neighbors import KNeighborsRegressor\n",
    "from sklearn.ensemble import RandomForestRegressor,GradientBoostingRegressor\n",
    "from sklearn.linear_model import LinearRegression\n",
    "from sklearn.tree import DecisionTreeRegressor\n",
    "from sklearn import neighbors\n",
    "from sklearn.metrics import mean_squared_error\n",
    "from sklearn.svm import SVR"
   ]
  },
  {
   "cell_type": "code",
   "execution_count": 70,
   "id": "5fe88aa7-2147-48a4-acf9-6cd49b8630e0",
   "metadata": {},
   "outputs": [
    {
     "data": {
      "text/html": [
       "<div>\n",
       "<style scoped>\n",
       "    .dataframe tbody tr th:only-of-type {\n",
       "        vertical-align: middle;\n",
       "    }\n",
       "\n",
       "    .dataframe tbody tr th {\n",
       "        vertical-align: top;\n",
       "    }\n",
       "\n",
       "    .dataframe thead th {\n",
       "        text-align: right;\n",
       "    }\n",
       "</style>\n",
       "<table border=\"1\" class=\"dataframe\">\n",
       "  <thead>\n",
       "    <tr style=\"text-align: right;\">\n",
       "      <th></th>\n",
       "      <th>Brand</th>\n",
       "      <th>Model</th>\n",
       "      <th>Year</th>\n",
       "      <th>Engine_Size</th>\n",
       "      <th>Fuel_Type</th>\n",
       "      <th>Transmission</th>\n",
       "      <th>Mileage</th>\n",
       "      <th>Doors</th>\n",
       "      <th>Owner_Count</th>\n",
       "      <th>Price</th>\n",
       "    </tr>\n",
       "  </thead>\n",
       "  <tbody>\n",
       "    <tr>\n",
       "      <th>0</th>\n",
       "      <td>Kia</td>\n",
       "      <td>Rio</td>\n",
       "      <td>2020</td>\n",
       "      <td>4.2</td>\n",
       "      <td>Diesel</td>\n",
       "      <td>Manual</td>\n",
       "      <td>289944</td>\n",
       "      <td>3</td>\n",
       "      <td>5</td>\n",
       "      <td>8501</td>\n",
       "    </tr>\n",
       "    <tr>\n",
       "      <th>1</th>\n",
       "      <td>Chevrolet</td>\n",
       "      <td>Malibu</td>\n",
       "      <td>2012</td>\n",
       "      <td>2.0</td>\n",
       "      <td>Hybrid</td>\n",
       "      <td>Automatic</td>\n",
       "      <td>5356</td>\n",
       "      <td>2</td>\n",
       "      <td>3</td>\n",
       "      <td>12092</td>\n",
       "    </tr>\n",
       "    <tr>\n",
       "      <th>2</th>\n",
       "      <td>Mercedes</td>\n",
       "      <td>GLA</td>\n",
       "      <td>2020</td>\n",
       "      <td>4.2</td>\n",
       "      <td>Diesel</td>\n",
       "      <td>Automatic</td>\n",
       "      <td>231440</td>\n",
       "      <td>4</td>\n",
       "      <td>2</td>\n",
       "      <td>11171</td>\n",
       "    </tr>\n",
       "    <tr>\n",
       "      <th>3</th>\n",
       "      <td>Audi</td>\n",
       "      <td>Q5</td>\n",
       "      <td>2023</td>\n",
       "      <td>2.0</td>\n",
       "      <td>Electric</td>\n",
       "      <td>Manual</td>\n",
       "      <td>160971</td>\n",
       "      <td>2</td>\n",
       "      <td>1</td>\n",
       "      <td>11780</td>\n",
       "    </tr>\n",
       "    <tr>\n",
       "      <th>4</th>\n",
       "      <td>Volkswagen</td>\n",
       "      <td>Golf</td>\n",
       "      <td>2003</td>\n",
       "      <td>2.6</td>\n",
       "      <td>Hybrid</td>\n",
       "      <td>Semi-Automatic</td>\n",
       "      <td>286618</td>\n",
       "      <td>3</td>\n",
       "      <td>3</td>\n",
       "      <td>2867</td>\n",
       "    </tr>\n",
       "  </tbody>\n",
       "</table>\n",
       "</div>"
      ],
      "text/plain": [
       "        Brand   Model  Year  Engine_Size Fuel_Type    Transmission  Mileage  \\\n",
       "0         Kia     Rio  2020          4.2    Diesel          Manual   289944   \n",
       "1   Chevrolet  Malibu  2012          2.0    Hybrid       Automatic     5356   \n",
       "2    Mercedes     GLA  2020          4.2    Diesel       Automatic   231440   \n",
       "3        Audi      Q5  2023          2.0  Electric          Manual   160971   \n",
       "4  Volkswagen    Golf  2003          2.6    Hybrid  Semi-Automatic   286618   \n",
       "\n",
       "   Doors  Owner_Count  Price  \n",
       "0      3            5   8501  \n",
       "1      2            3  12092  \n",
       "2      4            2  11171  \n",
       "3      2            1  11780  \n",
       "4      3            3   2867  "
      ]
     },
     "execution_count": 70,
     "metadata": {},
     "output_type": "execute_result"
    }
   ],
   "source": [
    "df = pd.read_csv(\"car_price_dataset.csv\")\n",
    "df.head()"
   ]
  },
  {
   "cell_type": "code",
   "execution_count": 71,
   "id": "a2e759ad-06f4-49c1-ae98-33be679947a2",
   "metadata": {},
   "outputs": [],
   "source": [
    "df = df.dropna()\n",
    "y = df[\"Price\"]\n",
    "dms = pd.get_dummies(df[[\"Brand\",\"Model\",\"Fuel_Type\",\"Transmission\"]])\n",
    "X_ = df.drop([\"Brand\",\"Model\",\"Fuel_Type\",\"Transmission\",\"Price\"],axis=1).astype(\"float64\")\n",
    "X = pd.concat([X_,dms],axis=1)"
   ]
  },
  {
   "cell_type": "code",
   "execution_count": 72,
   "id": "d671a56f-c8dd-44c9-8ce7-e682f4bd3d36",
   "metadata": {},
   "outputs": [],
   "source": [
    "X_train,X_test,y_train,y_test = train_test_split(X,y,test_size=0.30,random_state=42)"
   ]
  },
  {
   "cell_type": "code",
   "execution_count": 73,
   "id": "912a7c6e-b846-4d96-94ca-05b7cae219c5",
   "metadata": {},
   "outputs": [],
   "source": [
    "model = LinearRegression().fit(X_train,y_train)"
   ]
  },
  {
   "cell_type": "code",
   "execution_count": 74,
   "id": "0794099d-9d8c-4e60-afe1-75e7b0c1d232",
   "metadata": {},
   "outputs": [
    {
     "data": {
      "text/plain": [
       "67.31010016511561"
      ]
     },
     "execution_count": 74,
     "metadata": {},
     "output_type": "execute_result"
    }
   ],
   "source": [
    "pred_y = model.predict(X_test)\n",
    "np.sqrt(mean_squared_error(y_test,pred_y))"
   ]
  },
  {
   "cell_type": "code",
   "execution_count": 75,
   "id": "6d25778d-143b-474a-9dd9-6fe1f0f25ac8",
   "metadata": {},
   "outputs": [
    {
     "data": {
      "text/plain": [
       "array(['Year', 'Engine_Size', 'Mileage', 'Doors', 'Owner_Count',\n",
       "       'Brand_Audi', 'Brand_BMW', 'Brand_Chevrolet', 'Brand_Ford',\n",
       "       'Brand_Honda', 'Brand_Hyundai', 'Brand_Kia', 'Brand_Mercedes',\n",
       "       'Brand_Toyota', 'Brand_Volkswagen', 'Model_3 Series',\n",
       "       'Model_5 Series', 'Model_A3', 'Model_A4', 'Model_Accord',\n",
       "       'Model_C-Class', 'Model_CR-V', 'Model_Camry', 'Model_Civic',\n",
       "       'Model_Corolla', 'Model_E-Class', 'Model_Elantra', 'Model_Equinox',\n",
       "       'Model_Explorer', 'Model_Fiesta', 'Model_Focus', 'Model_GLA',\n",
       "       'Model_Golf', 'Model_Impala', 'Model_Malibu', 'Model_Optima',\n",
       "       'Model_Passat', 'Model_Q5', 'Model_RAV4', 'Model_Rio',\n",
       "       'Model_Sonata', 'Model_Sportage', 'Model_Tiguan', 'Model_Tucson',\n",
       "       'Model_X5', 'Fuel_Type_Diesel', 'Fuel_Type_Electric',\n",
       "       'Fuel_Type_Hybrid', 'Fuel_Type_Petrol', 'Transmission_Automatic',\n",
       "       'Transmission_Manual', 'Transmission_Semi-Automatic'], dtype=object)"
      ]
     },
     "execution_count": 75,
     "metadata": {},
     "output_type": "execute_result"
    }
   ],
   "source": [
    "X_columns = X.columns.values\n",
    "X_columns"
   ]
  },
  {
   "cell_type": "code",
   "execution_count": 96,
   "id": "dfecd457-29fa-4f4c-bd56-bd4b5f7e8725",
   "metadata": {},
   "outputs": [
    {
     "data": {
      "text/plain": [
       "array([8523.46585375])"
      ]
     },
     "execution_count": 96,
     "metadata": {},
     "output_type": "execute_result"
    }
   ],
   "source": [
    "# Tahmin edilecek araba = Kia Rio 2020 4.2 Diesel Manual 289944 3 5\n",
    "\n",
    "tahminAraba = [2020, 4.2, 289944, 3, 5,\n",
    "       False, False, False, False,\n",
    "       False, False, True, False,\n",
    "       False, False, False,\n",
    "       False, False, False, False,\n",
    "       False, False, False, False,\n",
    "       False, False, False, False,\n",
    "       False, False, False, False,\n",
    "       False, False, False, False,\n",
    "       False, False, False, True,\n",
    "       False, False, False, False,\n",
    "       False, True, False,\n",
    "       False, False, False,\n",
    "       True, False]\n",
    "tahminAraba_df = pd.DataFrame(tahminAraba,['Year', 'Engine_Size', 'Mileage', 'Doors', 'Owner_Count',\n",
    "       'Brand_Audi', 'Brand_BMW', 'Brand_Chevrolet', 'Brand_Ford',\n",
    "       'Brand_Honda', 'Brand_Hyundai', 'Brand_Kia', 'Brand_Mercedes',\n",
    "       'Brand_Toyota', 'Brand_Volkswagen', 'Model_3 Series',\n",
    "       'Model_5 Series', 'Model_A3', 'Model_A4', 'Model_Accord',\n",
    "       'Model_C-Class', 'Model_CR-V', 'Model_Camry', 'Model_Civic',\n",
    "       'Model_Corolla', 'Model_E-Class', 'Model_Elantra', 'Model_Equinox',\n",
    "       'Model_Explorer', 'Model_Fiesta', 'Model_Focus', 'Model_GLA',\n",
    "       'Model_Golf', 'Model_Impala', 'Model_Malibu', 'Model_Optima',\n",
    "       'Model_Passat', 'Model_Q5', 'Model_RAV4', 'Model_Rio',\n",
    "       'Model_Sonata', 'Model_Sportage', 'Model_Tiguan', 'Model_Tucson',\n",
    "       'Model_X5', 'Fuel_Type_Diesel', 'Fuel_Type_Electric',\n",
    "       'Fuel_Type_Hybrid', 'Fuel_Type_Petrol', 'Transmission_Automatic',\n",
    "       'Transmission_Manual', 'Transmission_Semi-Automatic']).T\n",
    "model.predict(tahminAraba_df)\n"
   ]
  },
  {
   "cell_type": "code",
   "execution_count": null,
   "id": "8b6d49ba-8ebf-4842-88c5-ac2629a45036",
   "metadata": {},
   "outputs": [],
   "source": []
  }
 ],
 "metadata": {
  "kernelspec": {
   "display_name": "Python 3 (ipykernel)",
   "language": "python",
   "name": "python3"
  },
  "language_info": {
   "codemirror_mode": {
    "name": "ipython",
    "version": 3
   },
   "file_extension": ".py",
   "mimetype": "text/x-python",
   "name": "python",
   "nbconvert_exporter": "python",
   "pygments_lexer": "ipython3",
   "version": "3.11.0"
  }
 },
 "nbformat": 4,
 "nbformat_minor": 5
}
